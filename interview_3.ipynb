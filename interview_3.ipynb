{
  "nbformat": 4,
  "nbformat_minor": 0,
  "metadata": {
    "colab": {
      "name": "interview_3.ipynb",
      "provenance": [],
      "collapsed_sections": [],
      "authorship_tag": "ABX9TyMiCS9qxOgRoAXXS5ox5BJ1",
      "include_colab_link": true
    },
    "kernelspec": {
      "name": "python3",
      "display_name": "Python 3"
    },
    "language_info": {
      "name": "python"
    }
  },
  "cells": [
    {
      "cell_type": "markdown",
      "metadata": {
        "id": "view-in-github",
        "colab_type": "text"
      },
      "source": [
        "<a href=\"https://colab.research.google.com/github/nutzhiii/Recap_Knowledge/blob/main/interview_3.ipynb\" target=\"_parent\"><img src=\"https://colab.research.google.com/assets/colab-badge.svg\" alt=\"Open In Colab\"/></a>"
      ]
    },
    {
      "cell_type": "markdown",
      "source": [
        "1.หา median ของ array โดยไม่ sort array"
      ],
      "metadata": {
        "id": "heNe91DertaH"
      }
    },
    {
      "cell_type": "code",
      "execution_count": 54,
      "metadata": {
        "id": "7a5iLxsvrqQo"
      },
      "outputs": [],
      "source": [
        "import numpy as np\n",
        "#input = [9, 24, 60, 1 ,58 ,195 ,73] #odd\n",
        "input = [9, 24, 60 ,58 ,195 ,73] #even"
      ]
    },
    {
      "cell_type": "code",
      "source": [
        "n = len(input)\n",
        "list_higher = [0]*n\n",
        "print(list_higher)\n",
        "\n",
        "#row, column\n",
        "print(list_higher)\n",
        "\n",
        "for i in range(0,len(input)):\n",
        "  count_hight = 0\n",
        "  for j in range(0,len(input)):\n",
        "    if (input[j] >= input[i]) and (i!=j):\n",
        "      count_hight = count_hight + 1\n",
        "    \n",
        "  list_higher[i] = count_hight\n",
        "\n",
        "np_higher = np.array(list_higher)\n",
        "print(np_higher)\n",
        "\n",
        "if n%2 != 0:\n",
        "  #odd\n",
        "  position = int(n/2)\n",
        "  index_of_median = np.argwhere(np_higher == position)[0][0]\n",
        "  median_position = index_of_median\n",
        "  print(\"median is\", input[median_position])\n",
        "else:\n",
        "  #even\n",
        "  current_position = int(n/2)\n",
        "  next_position = int(n/2) - 1\n",
        "  value_of_current_position = input[np.argwhere(np_higher == current_position)[0][0]]\n",
        "  value_of_next_position = input[np.argwhere(np_higher == next_position)[0][0]]\n",
        "  calulation_median = (value_of_next_position + value_of_current_position)/2\n",
        "  print(\"median is\", calulation_median)"
      ],
      "metadata": {
        "colab": {
          "base_uri": "https://localhost:8080/"
        },
        "id": "GETukPGYzqJM",
        "outputId": "1267b642-d100-41d4-dda0-d360ef5a10fa"
      },
      "execution_count": 55,
      "outputs": [
        {
          "output_type": "stream",
          "name": "stdout",
          "text": [
            "[0, 0, 0, 0, 0, 0]\n",
            "[0, 0, 0, 0, 0, 0]\n",
            "[5 4 2 3 0 1]\n",
            "median is 59.0\n"
          ]
        }
      ]
    }
  ]
}