{
  "nbformat": 4,
  "nbformat_minor": 0,
  "metadata": {
    "colab": {
      "name": "Python_101.ipynb",
      "provenance": [],
      "collapsed_sections": []
    },
    "kernelspec": {
      "name": "python3",
      "display_name": "Python 3"
    },
    "language_info": {
      "name": "python"
    }
  },
  "cells": [
    {
      "cell_type": "markdown",
      "source": [
        "# Test 55555 :) First command of everything is \"Hello World\""
      ],
      "metadata": {
        "id": "lXEzyfoYxsnQ"
      }
    },
    {
      "cell_type": "code",
      "execution_count": null,
      "metadata": {
        "colab": {
          "base_uri": "https://localhost:8080/"
        },
        "id": "hr8zgcRhL90c",
        "outputId": "ab49d702-caa4-4b52-9e4f-2f56ed9ab825"
      },
      "outputs": [
        {
          "output_type": "stream",
          "name": "stdout",
          "text": [
            "Hello world\n"
          ]
        }
      ],
      "source": [
        "print(\"Hello world\")"
      ]
    },
    {
      "cell_type": "markdown",
      "source": [
        "# Variables and Types\n",
        "specific, case-sensitive name\n",
        "call up value through vaiable name\n"
      ],
      "metadata": {
        "id": "3hDZDB5tM1nv"
      }
    },
    {
      "cell_type": "code",
      "source": [
        "height = 1.79\n",
        "weight = 68.7"
      ],
      "metadata": {
        "id": "4Gnwbn0bM6VO"
      },
      "execution_count": null,
      "outputs": []
    },
    {
      "cell_type": "code",
      "source": [
        "height"
      ],
      "metadata": {
        "colab": {
          "base_uri": "https://localhost:8080/"
        },
        "id": "93Me9tNfbGR4",
        "outputId": "308ad369-c9ed-4235-bb14-fb402bb0956c"
      },
      "execution_count": null,
      "outputs": [
        {
          "output_type": "execute_result",
          "data": {
            "text/plain": [
              "1.79"
            ]
          },
          "metadata": {},
          "execution_count": 4
        }
      ]
    },
    {
      "cell_type": "code",
      "source": [
        "print(height)"
      ],
      "metadata": {
        "colab": {
          "base_uri": "https://localhost:8080/"
        },
        "id": "OcKZFEFNbJaq",
        "outputId": "2637b5d5-97ee-46ee-d7b8-2056b676579d"
      },
      "execution_count": null,
      "outputs": [
        {
          "output_type": "stream",
          "name": "stdout",
          "text": [
            "1.79\n"
          ]
        }
      ]
    },
    {
      "cell_type": "markdown",
      "source": [
        "Calculate BMI => formulas: BMI = weight/height^2"
      ],
      "metadata": {
        "id": "6i3MP-gdbQjx"
      }
    },
    {
      "cell_type": "code",
      "source": [
        "bmi = weight/height ** 2\n",
        "print(bmi)"
      ],
      "metadata": {
        "colab": {
          "base_uri": "https://localhost:8080/"
        },
        "id": "unMzW5EUbMpK",
        "outputId": "c7694be8-56dd-4fea-c8ac-10c9d3e78133"
      },
      "execution_count": null,
      "outputs": [
        {
          "output_type": "stream",
          "name": "stdout",
          "text": [
            "21.44127836209856\n"
          ]
        }
      ]
    },
    {
      "cell_type": "markdown",
      "source": [
        "หรือจะใช้ library math ก็ได้\n",
        "เริ่มจาก import library math\n",
        "math.pow(x,y)\n",
        "โดยที่ x คือค่าที่ถูก y ยกกำลัง\n",
        "return float value"
      ],
      "metadata": {
        "id": "D-6QdG5Qbxxo"
      }
    },
    {
      "cell_type": "code",
      "source": [
        "import math #import math library\n",
        "bmi = weight/math.pow(height,2)\n",
        "print(bmi)\n",
        "print(type(bmi))"
      ],
      "metadata": {
        "colab": {
          "base_uri": "https://localhost:8080/"
        },
        "id": "ESuucBRQbohc",
        "outputId": "f80a6a20-22e4-4cdb-8031-c68d86a4d3c8"
      },
      "execution_count": null,
      "outputs": [
        {
          "output_type": "stream",
          "name": "stdout",
          "text": [
            "21.44127836209856\n",
            "<class 'float'>\n"
          ]
        }
      ]
    },
    {
      "cell_type": "markdown",
      "source": [
        "# Types\n",
        "สามารถทราบ types ด้วยคำสั่ง type(variabile_name/value)\n",
        "- integer number (int) \n",
        "- string, text (str) => จะใช้ ' ' หรือ \" \" ได้เหมือนกัน\n",
        "- float - real numbers (float)\n",
        "- dictionary - key,value (dict)\n",
        "- list (list) ข้อมูลใน list ไม่จำเป็นต้องเป็นประเภทเดียวกันหมด คนละ ype ก็ได้ เช่น ชื่อคน ค่าความสูง\n",
        "- boolean - True, False (bool)"
      ],
      "metadata": {
        "id": "G5hUwRjodDsZ"
      }
    },
    {
      "cell_type": "code",
      "source": [
        "print(bmi)"
      ],
      "metadata": {
        "colab": {
          "base_uri": "https://localhost:8080/"
        },
        "id": "OQbfS5V6dZ-7",
        "outputId": "cfd37d99-dfe6-4a72-be5f-71c35e9b105f"
      },
      "execution_count": null,
      "outputs": [
        {
          "output_type": "stream",
          "name": "stdout",
          "text": [
            "21.44127836209856\n"
          ]
        }
      ]
    },
    {
      "cell_type": "code",
      "source": [
        "day_of_week = 5\n",
        "print(type(day_of_week))"
      ],
      "metadata": {
        "colab": {
          "base_uri": "https://localhost:8080/"
        },
        "id": "Ulk9m5hwc7M-",
        "outputId": "77ab3bc4-b307-4d86-b480-1f7b0543ae83"
      },
      "execution_count": null,
      "outputs": [
        {
          "output_type": "stream",
          "name": "stdout",
          "text": [
            "<class 'int'>\n"
          ]
        }
      ]
    },
    {
      "cell_type": "code",
      "source": [
        "x = \"body mass index\"\n",
        "y = 'this works too'\n",
        "print(\"type of x is {0} and msg is {1}, type of y is {2} and msg is {3}\".format(type(x), x, type(y), y))"
      ],
      "metadata": {
        "colab": {
          "base_uri": "https://localhost:8080/"
        },
        "id": "3ZSgtpKydBLS",
        "outputId": "e59c7919-523b-43f0-a71f-536aba7d0e3a"
      },
      "execution_count": null,
      "outputs": [
        {
          "output_type": "stream",
          "name": "stdout",
          "text": [
            "type of x is <class 'str'> and msg is body mass index, type of y is <class 'str'> and msg is this works too\n"
          ]
        }
      ]
    },
    {
      "cell_type": "code",
      "source": [
        "z = True\n",
        "print(type(z))"
      ],
      "metadata": {
        "colab": {
          "base_uri": "https://localhost:8080/"
        },
        "id": "xATF7ZI6e1u0",
        "outputId": "152aad4a-fe3f-4939-a1e9-932e551ec7d3"
      },
      "execution_count": null,
      "outputs": [
        {
          "output_type": "stream",
          "name": "stdout",
          "text": [
            "<class 'bool'>\n"
          ]
        }
      ]
    },
    {
      "cell_type": "markdown",
      "source": [
        "string มีคุณสมบัติการบวก"
      ],
      "metadata": {
        "id": "6QozReOqfP-0"
      }
    },
    {
      "cell_type": "code",
      "source": [
        "ans_int = 2 + 3\n",
        "print(\"type: \", type(ans_int),\"ans: \", ans_int)\n",
        "\n",
        "ans_str = 'ab' + 'cd'\n",
        "print(\"type: \", type(ans_str),\"ans: \", ans_str)"
      ],
      "metadata": {
        "colab": {
          "base_uri": "https://localhost:8080/"
        },
        "id": "DF9NvH_ie8XF",
        "outputId": "95ce1bec-251e-4a73-cf51-6bbb1672407d"
      },
      "execution_count": null,
      "outputs": [
        {
          "output_type": "stream",
          "name": "stdout",
          "text": [
            "type:  <class 'int'> ans:  5\n",
            "type:  <class 'str'> ans:  abcd\n"
          ]
        }
      ]
    },
    {
      "cell_type": "markdown",
      "source": [
        "# List"
      ],
      "metadata": {
        "id": "j3oYL8O9h8xm"
      }
    },
    {
      "cell_type": "code",
      "source": [
        "height_fam = [\"liza\",1.73, \"emma\", 1.68, \"mom\", 1.71, \"data\", 1.89] #list , ใน list ไม่จำเป็นต้องเป็นข้อมูล type เดียวกัน\n",
        "print(height_fam)\n",
        "print(type(height_fam))\n",
        "height_fam_2 = [[\"liza\", 1.73], [\"emma\", 1.68], [\"mom\", 1.71], [\"data\", 1.89]] #list in list\n",
        "print(height_fam_2, \"get value of index at 0 :\", height_fam_2[0])\n",
        "print('name: ', height_fam_2[0][0], 'height: ', height_fam_2[0][1])\n",
        "print(type(height_fam_2))"
      ],
      "metadata": {
        "colab": {
          "base_uri": "https://localhost:8080/"
        },
        "id": "DuSrCX74h-3R",
        "outputId": "5c7e5086-e1c7-41a4-892f-0d9ed8384566"
      },
      "execution_count": null,
      "outputs": [
        {
          "output_type": "stream",
          "name": "stdout",
          "text": [
            "['liza', 1.73, 'emma', 1.68, 'mom', 1.71, 'data', 1.89]\n",
            "<class 'list'>\n",
            "[['liza', 1.73], ['emma', 1.68], ['mom', 1.71], ['data', 1.89]] get value of index at 0 : ['liza', 1.73]\n",
            "name:  liza height:  1.73\n",
            "<class 'list'>\n"
          ]
        }
      ]
    },
    {
      "cell_type": "markdown",
      "source": [
        "\n",
        "# Subsetting Lists\n",
        "index start at 0 \n",
        "\n",
        "การเข้าถึงค่าใน list เริ่มจาก index ที่ 0\n"
      ],
      "metadata": {
        "id": "KBuv6hR3jpZU"
      }
    },
    {
      "cell_type": "code",
      "source": [
        "fam = [\"liza\",1.73, \"emma\", 1.68, \"mom\", 1.71, \"data\", 1.89] \n",
        "print(fam)"
      ],
      "metadata": {
        "colab": {
          "base_uri": "https://localhost:8080/"
        },
        "id": "eVdaodfJjpDb",
        "outputId": "a2cd143f-0512-4e61-c26c-642fc0309e8a"
      },
      "execution_count": null,
      "outputs": [
        {
          "output_type": "stream",
          "name": "stdout",
          "text": [
            "['liza', 1.73, 'emma', 1.68, 'mom', 1.71, 'data', 1.89]\n"
          ]
        }
      ]
    },
    {
      "cell_type": "code",
      "source": [
        "print(fam) # all of data in fam list\n",
        "print(fam[0]) #liza\n",
        "print(fam[1]) #height of liza\n",
        "print(fam[-1], fam[7]) #last value!! / to the end of list เขียนได้ทั้งสองแบบ -1 หรือตัวสุดท้าย"
      ],
      "metadata": {
        "colab": {
          "base_uri": "https://localhost:8080/"
        },
        "id": "CZs9ESbzkS2d",
        "outputId": "eedc0d9e-f761-4b62-b432-2dcd99759e5b"
      },
      "execution_count": null,
      "outputs": [
        {
          "output_type": "stream",
          "name": "stdout",
          "text": [
            "['liza', 1.73, 'emma', 1.68, 'mom', 1.71, 'data', 1.89]\n",
            "liza\n",
            "1.73\n",
            "1.89 1.89\n"
          ]
        }
      ]
    },
    {
      "cell_type": "markdown",
      "source": [
        "List Slicing มักพบบ่อยใน for\n",
        "\n",
        "[Start (inclusive) นับ : End (exclusive) ไม่นับ]\n",
        "\n",
        "[: 4] เริ่มจากตัวแรกคือ 0 ถือตัวที่ 3\n",
        "\n",
        "[5:] เริ่มจากตัวที่ 5 ถึงตัดสุดท้าย "
      ],
      "metadata": {
        "id": "3w57RqwKk6gA"
      }
    },
    {
      "cell_type": "code",
      "source": [
        "print(fam[3:5]) #ลำดับที่ 3-4 คือ 1.68, mom\n",
        "print(fam[1:4]) #ลำดับที่ 1-3 คือ 1.73, emma, 1.68\n",
        "print(fam[:4]) # 0 ถึง 3 คือ liza, 1.73, emma, 1.68\n",
        "print(fam[5:]) #5 ถึงสุดท้าย คือ 1.71, data, 1.89"
      ],
      "metadata": {
        "colab": {
          "base_uri": "https://localhost:8080/"
        },
        "id": "Nir9NZrAk-WA",
        "outputId": "1c2b7482-2abb-4b88-dc2d-9ec1812c6591"
      },
      "execution_count": null,
      "outputs": [
        {
          "output_type": "stream",
          "name": "stdout",
          "text": [
            "[1.68, 'mom']\n",
            "[1.73, 'emma', 1.68]\n",
            "['liza', 1.73, 'emma', 1.68]\n",
            "[1.71, 'data', 1.89]\n"
          ]
        }
      ]
    },
    {
      "cell_type": "code",
      "source": [
        "alphabet = [[\"a\",\"b\",\"c\"],\n",
        "            [\"d\",\"e\",\"f\"],\n",
        "            [\"g\",\"h\",\"i\"]]\n",
        "print(alphabet[2][0]) # g\n",
        "print(alphabet[2][:2]) # g, h"
      ],
      "metadata": {
        "colab": {
          "base_uri": "https://localhost:8080/"
        },
        "id": "IFdwXf9Vs3Wq",
        "outputId": "65663ceb-beb8-45a8-ba4a-da4f13272f49"
      },
      "execution_count": null,
      "outputs": [
        {
          "output_type": "stream",
          "name": "stdout",
          "text": [
            "g\n",
            "['g', 'h']\n"
          ]
        }
      ]
    },
    {
      "cell_type": "markdown",
      "source": [
        "# List Manipulation การจัดการ list\n",
        "\n",
        "\n",
        "*   Change list element สามารถระบุ index เพื่อเข้าถึงค่า หรือเปลี่ยนแปลงค่าใน list ได้เลย เช่น fam[7] = 1.86\n",
        "*   Add list element\n",
        "*   Remove list element\n",
        "\n",
        "\n"
      ],
      "metadata": {
        "id": "aJmmwpMRtasS"
      }
    },
    {
      "cell_type": "code",
      "source": [
        "#Change List Element\n",
        "family_height = [\"nut\", 1.56, \"dad\", 1.65, \"mom\", 1.65]\n",
        "print(family_height)\n",
        "family_height[-1] = 1.67 # update value\n",
        "print(family_height)\n",
        "family_height[0:2] = ['nutzhiii', 1.57] # nutzhiii, 1.57 # update value\n",
        "print(family_height)"
      ],
      "metadata": {
        "colab": {
          "base_uri": "https://localhost:8080/"
        },
        "id": "ibJoVi5Hto6H",
        "outputId": "fdafd28d-d57d-4046-dca8-d9a6abd87b4d"
      },
      "execution_count": null,
      "outputs": [
        {
          "output_type": "stream",
          "name": "stdout",
          "text": [
            "['nut', 1.56, 'dad', 1.65, 'mom', 1.65]\n",
            "['nut', 1.56, 'dad', 1.65, 'mom', 1.67]\n",
            "['nutzhiii', 1.57, 'dad', 1.65, 'mom', 1.67]\n"
          ]
        }
      ]
    },
    {
      "cell_type": "code",
      "source": [
        "#Add list element\n",
        "family_height = family_height + [\"sister\", 1.56]\n",
        "print(family_height)\n",
        "family_height[8:10] = [\"brother\", 178]\n",
        "print(family_height) "
      ],
      "metadata": {
        "colab": {
          "base_uri": "https://localhost:8080/"
        },
        "id": "SrsoOPCHurVH",
        "outputId": "73246dbf-291c-4b15-b34e-9c1f940094bf"
      },
      "execution_count": null,
      "outputs": [
        {
          "output_type": "stream",
          "name": "stdout",
          "text": [
            "['nutzhiii', 1.57, 'dad', 1.65, 'mom', 1.67, 'sister', 1.56]\n",
            "['nutzhiii', 1.57, 'dad', 1.65, 'mom', 1.67, 'sister', 1.56, 'brother', 178]\n"
          ]
        }
      ]
    },
    {
      "cell_type": "code",
      "source": [
        "#delete element\n",
        "family_del = family_height.copy() # copy value for testing\n",
        "del(family_del[0:2])\n",
        "print(\"del: \", family_del) #del nutzhiii, 1.57\n",
        "print(\"origin: \", family_height) #origin"
      ],
      "metadata": {
        "colab": {
          "base_uri": "https://localhost:8080/"
        },
        "id": "xo21dqLzvTVP",
        "outputId": "66994e0d-764a-4edc-b279-1c3c5470edf9"
      },
      "execution_count": null,
      "outputs": [
        {
          "output_type": "stream",
          "name": "stdout",
          "text": [
            "del:  ['dad', 1.65, 'mom', 1.67, 'sister', 1.56, 'brother', 178]\n",
            "origin:  ['nutzhiii', 1.57, 'dad', 1.65, 'mom', 1.67, 'sister', 1.56, 'brother', 178]\n"
          ]
        }
      ]
    },
    {
      "cell_type": "markdown",
      "source": [
        "# Behind the scenes (copy list to list)\n",
        "เรียกว่าอะไรแล้ว จำไม่ได้ ขอแปะไว้ก่อน"
      ],
      "metadata": {
        "id": "wJeoU8CZx2cS"
      }
    },
    {
      "cell_type": "code",
      "source": [
        "x_list = [\"a\",\"b\",\"c\"]\n",
        "y_list = x_list # คือการที่เรา point y_list variable ไปที่ address ของ x_list เมื่อเราแก้ไขค่าจากตัวแปรใด ๆ ทั้ง y_list, x_list จะได้รับผลกระทบ เนื่องจากเก็บ address ที่เดียวกัน\n",
        "y_list[1] = \"z\"\n",
        "print(\"y is \", y_list) # เปลี่ยนจาก b to z\n",
        "print(\"x is \", x_list) # เปลี่ยนจาก b to z แม้ไม่ได้เขียน เนื่องจากเก็บ address ที่เดียวกับ y_list"
      ],
      "metadata": {
        "colab": {
          "base_uri": "https://localhost:8080/"
        },
        "id": "fkR0NqD2x_kZ",
        "outputId": "b64edd34-95e9-472e-e705-46a8409f66b4"
      },
      "execution_count": null,
      "outputs": [
        {
          "output_type": "stream",
          "name": "stdout",
          "text": [
            "y is  ['a', 'z', 'c']\n",
            "x is  ['a', 'z', 'c']\n"
          ]
        }
      ]
    },
    {
      "cell_type": "markdown",
      "source": [
        "หากต้องการ copy ค่าของ list เพื่อไม่ให้กระทบกัน ทำตามนี้"
      ],
      "metadata": {
        "id": "bdREjUBZ71_B"
      }
    },
    {
      "cell_type": "code",
      "source": [
        "x_list = [\"a\",\"b\",\"c\"]\n",
        "y_list = list(x_list) # สร้าง list จากค่า x_list\n",
        "y_list[1] = \"z\"\n",
        "print(\"y is \", y_list) # เปลี่ยนจาก b to z => a z c\n",
        "print(\"x is \", x_list) # ได้ค่า a b c ไม่เปลี่ยนแปลง "
      ],
      "metadata": {
        "colab": {
          "base_uri": "https://localhost:8080/"
        },
        "id": "zP8vBrlK70_6",
        "outputId": "ada46ca7-2c74-4925-b70d-94fe6805dc2a"
      },
      "execution_count": null,
      "outputs": [
        {
          "output_type": "stream",
          "name": "stdout",
          "text": [
            "y is  ['a', 'z', 'c']\n",
            "x is  ['a', 'b', 'c']\n"
          ]
        }
      ]
    },
    {
      "cell_type": "code",
      "source": [
        "# หรือ copy ค่ามาได้เช่น\n",
        "x_list = [\"a\",\"b\",\"c\"]\n",
        "y_list = x_list.copy() # copy ค่า x_list\n",
        "y_list[1] = \"z\"\n",
        "print(\"y is \", y_list) # เปลี่ยนจาก b to z => a z c\n",
        "print(\"x is \", x_list) # ได้ค่า a b c ไม่เปลี่ยนแปลง "
      ],
      "metadata": {
        "colab": {
          "base_uri": "https://localhost:8080/"
        },
        "id": "hOYB86Wc7zof",
        "outputId": "e09781ef-114e-49a9-f1dd-a2053827ef07"
      },
      "execution_count": null,
      "outputs": [
        {
          "output_type": "stream",
          "name": "stdout",
          "text": [
            "y is  ['a', 'z', 'c']\n",
            "x is  ['a', 'b', 'c']\n"
          ]
        }
      ]
    },
    {
      "cell_type": "markdown",
      "source": [
        "#Functions"
      ],
      "metadata": {
        "id": "9BwdVvFr82_I"
      }
    },
    {
      "cell_type": "code",
      "source": [
        "height = [1.73, 1.68, 1.71, 1.89]\n",
        "print(height)"
      ],
      "metadata": {
        "colab": {
          "base_uri": "https://localhost:8080/"
        },
        "id": "Z3YbrHniyAB2",
        "outputId": "7fca841d-f6e8-4f71-a7be-2eb95e9619b6"
      },
      "execution_count": null,
      "outputs": [
        {
          "output_type": "stream",
          "name": "stdout",
          "text": [
            "[1.73, 1.68, 1.71, 1.89]\n"
          ]
        }
      ]
    },
    {
      "cell_type": "code",
      "source": [
        "#find max value\n",
        "maximum = max(height) # maximum function\n",
        "print(maximum)"
      ],
      "metadata": {
        "colab": {
          "base_uri": "https://localhost:8080/"
        },
        "id": "dyrU9ScYyAH4",
        "outputId": "ef3fc78e-2611-48cb-97ac-639acc369742"
      },
      "execution_count": null,
      "outputs": [
        {
          "output_type": "stream",
          "name": "stdout",
          "text": [
            "1.89\n"
          ]
        }
      ]
    },
    {
      "cell_type": "code",
      "source": [
        "# round ปัดเศษ หากใส่แค่พารามิเตอร์เดียวจะ return integer หากใส่ 2 พารามิเตอร์ จะคืนทศนิยมตามจำนวนนั้น จะปัดเศษตามนี้คือ =5 >5 ปัดขึ้น <5 ปัดลง\n",
        "value = round(1.68)\n",
        "print(value) # 2\n",
        "value = round(1.68, 1) \n",
        "print(value) # 1.7\n",
        "# when the (ndigit+1)th digit is =5\n",
        "print(round(2.665, 2))\n",
        "# when the (ndigit+1)th digit is >=5\n",
        "print(round(2.676, 2))\n",
        "# when the (ndigit+1)th digit is <5\n",
        "print(round(2.673, 2))"
      ],
      "metadata": {
        "colab": {
          "base_uri": "https://localhost:8080/"
        },
        "id": "21sMaa4gyAK7",
        "outputId": "34f55a03-2bd7-4b59-8440-ba1f4f7a0850"
      },
      "execution_count": null,
      "outputs": [
        {
          "output_type": "stream",
          "name": "stdout",
          "text": [
            "2\n",
            "1.7\n",
            "2.67\n",
            "2.68\n",
            "2.67\n"
          ]
        }
      ]
    },
    {
      "cell_type": "markdown",
      "source": [
        "# Methods\n",
        "มันคือ Functionas that belong to objects; ฟังก์ชันของ object \n",
        "\n",
        "เช่น str ก็มี method replace() upper() lower() เป็นของตัวเอง \n",
        "\n",
        "list ก็มี index(), count(), append\n",
        "\n",
        "Everything = Object\n",
        "\n",
        "Object have methods associated,depending on type"
      ],
      "metadata": {
        "id": "dzE7Lxls__8E"
      }
    },
    {
      "cell_type": "code",
      "source": [
        "#list method\n",
        "family_height = [\"nut\", 1.56, \"dad\", 1.65, \"mom\", 1.65]\n",
        "print(\"index at :\", family_height.index(\"nut\")) #หา index ที่มี value \"nut\" จะได้ 0\n",
        "print(\"count: \", family_height.count(1.65)) # นับ index ที่มีค่าเท่ากับ 1.65 จะได้ 2 \n",
        "family_height.append(\"sister\")\n",
        "family_height.append(1.56)\n",
        "print(family_height)"
      ],
      "metadata": {
        "colab": {
          "base_uri": "https://localhost:8080/"
        },
        "id": "atDFHPwbAUHh",
        "outputId": "f60a070a-2ac6-4bdb-80ab-9e8882c01825"
      },
      "execution_count": null,
      "outputs": [
        {
          "output_type": "stream",
          "name": "stdout",
          "text": [
            "index at : 0\n",
            "count:  2\n",
            "['nut', 1.56, 'dad', 1.65, 'mom', 1.65, 'sister', 1.56]\n"
          ]
        }
      ]
    },
    {
      "cell_type": "code",
      "source": [
        "#str method\n",
        "sister = \"liza\"\n",
        "print(sister.capitalize()) #ตัวแรกใหญ่\n",
        "print(sister.upper()) #ตัวใหญ่หมด\n",
        "print(sister.lower()) #ตัวเล็กหมด\n",
        "print(sister.replace(\"a\", \"a narak\")) # แทนที่ str\n",
        "#sister have type is the string when we use a method index() it will return index of character in the string.\n",
        "print(sister.index(\"z\")) # 2\n",
        "#but family_height have type is the list when we use a method index()  it will return index of value in the list.\n",
        "print(family_height.index(\"mom\")) # 4  "
      ],
      "metadata": {
        "colab": {
          "base_uri": "https://localhost:8080/"
        },
        "id": "AbePrVerAyvH",
        "outputId": "6fb7ab44-a56b-465b-8515-186fff846042"
      },
      "execution_count": null,
      "outputs": [
        {
          "output_type": "stream",
          "name": "stdout",
          "text": [
            "Liza\n",
            "LIZA\n",
            "liza\n",
            "4\n",
            "liza narak\n",
            "2\n",
            "4\n"
          ]
        }
      ]
    },
    {
      "cell_type": "markdown",
      "source": [
        "# Packages\n",
        "* ตัวอย่าง package ที่พร้อมให้เราใช้งานเช่น Numpy, Matplotlib, Scikit-learn\n",
        "เพื่อช่วยในเรื่องของความสะดวก ไม่ต้องมา maintenance โคตรไม่เยอะ ไม่ยุ่งยากในการใช้งาน\n",
        "\n",
        "* เราแค่ติดตั้งแต่เรียกใช้งาน เช่น pip3 install numpy หลังจากนั้นก็แค่ import numpy เรียกใช้ function ที่ต้องการ\n",
        "\n",
        "* import numpy as np เป็นการย่อชื่อเรียกใช้ numpy ไม่ต้อง as np ตลอดก็ได้ แค่ขี้เกียจพิมพ์ numpy เต็ม หากใช้บ่อยมันยาว"
      ],
      "metadata": {
        "id": "242l3QN0FhQG"
      }
    },
    {
      "cell_type": "code",
      "source": [
        "#pip install numpy #หากมีอยู่แล้วก็ไม่ต้องติดตั้ง "
      ],
      "metadata": {
        "id": "OpYD2-G_Gkx-"
      },
      "execution_count": null,
      "outputs": []
    },
    {
      "cell_type": "code",
      "source": [
        "import numpy as np\n",
        "array = np.array([1,2,3])\n",
        "print(array)"
      ],
      "metadata": {
        "colab": {
          "base_uri": "https://localhost:8080/"
        },
        "id": "gsR10wXLGpBM",
        "outputId": "a7d73bca-15e8-45d9-c059-ef176a172549"
      },
      "execution_count": null,
      "outputs": [
        {
          "output_type": "stream",
          "name": "stdout",
          "text": [
            "[1 2 3]\n"
          ]
        }
      ]
    },
    {
      "cell_type": "code",
      "source": [
        "from numpy import array\n",
        "#เรียกใช้แค่ function array มาใช้\n",
        "array_numpy = array([1,2,3])\n",
        "print(array_numpy)"
      ],
      "metadata": {
        "colab": {
          "base_uri": "https://localhost:8080/"
        },
        "id": "DKpI8KEQHIKg",
        "outputId": "420e6ab3-98e7-4671-eef8-3617d77dbbc0"
      },
      "execution_count": null,
      "outputs": [
        {
          "output_type": "stream",
          "name": "stdout",
          "text": [
            "[1 2 3]\n"
          ]
        }
      ]
    },
    {
      "cell_type": "code",
      "source": [
        "import numpy as np\n",
        "array_np = np.array([\"nut\", 1.56, \"dad\", 1.65, \"mom\", 1.65])\n",
        "print(array_np)\n",
        "display(array_np)"
      ],
      "metadata": {
        "colab": {
          "base_uri": "https://localhost:8080/",
          "height": 52
        },
        "id": "CVvqw9JaJIWP",
        "outputId": "435d069f-0d7e-4895-eb2e-721606a25838"
      },
      "execution_count": null,
      "outputs": [
        {
          "output_type": "stream",
          "name": "stdout",
          "text": [
            "['nut' '1.56' 'dad' '1.65' 'mom' '1.65']\n"
          ]
        },
        {
          "output_type": "display_data",
          "data": {
            "text/plain": [
              "array(['nut', '1.56', 'dad', '1.65', 'mom', '1.65'], dtype='<U4')"
            ]
          },
          "metadata": {}
        }
      ]
    },
    {
      "cell_type": "markdown",
      "source": [
        "# Sorting"
      ],
      "metadata": {
        "id": "6qFTEpSL7eAW"
      }
    },
    {
      "cell_type": "code",
      "source": [
        "#sort by asc and desc in list ใช้ได้กับทั้งตัวเลข ข้อความ\n",
        "order_list = [20,10,5,15,9,15]\n",
        "order_list.sort(reverse=True) # by descending order มากไปน้อย not return value, it changes the original list.\n",
        "print(order_list)\n",
        "order_list.sort() # by ascending order น้อยไปมาก\n",
        "print(order_list)"
      ],
      "metadata": {
        "colab": {
          "base_uri": "https://localhost:8080/"
        },
        "id": "pk9LUb6L6Jv9",
        "outputId": "a3155eca-a75d-44b3-aa82-8401711c22e0"
      },
      "execution_count": null,
      "outputs": [
        {
          "output_type": "stream",
          "name": "stdout",
          "text": [
            "[20, 15, 15, 10, 9, 5]\n",
            "[5, 9, 10, 15, 15, 20]\n"
          ]
        }
      ]
    },
    {
      "cell_type": "code",
      "source": [
        "#หรือใช้เป็น functional ก็ได้ ถ้าไม่ใช่ method ของ list\n",
        "desc_order = sorted(order_list, reverse=True) #return value, it not change the original list\n",
        "asc_order = sorted(order_list)\n",
        "print(desc_order)\n",
        "print(asc_order) "
      ],
      "metadata": {
        "colab": {
          "base_uri": "https://localhost:8080/"
        },
        "id": "xvSFVxVL7Bq5",
        "outputId": "4035215b-f99c-4af4-c86f-2be1788789b5"
      },
      "execution_count": null,
      "outputs": [
        {
          "output_type": "stream",
          "name": "stdout",
          "text": [
            "[5, 9, 10, 15, 15, 20]\n",
            "[20, 15, 15, 10, 9, 5]\n",
            "[5, 9, 10, 15, 15, 20]\n",
            "[5, 9, 10, 15, 15, 20]\n"
          ]
        }
      ]
    },
    {
      "cell_type": "code",
      "source": [
        "#https://www.programiz.com/python-programming/methods/list/sort\n",
        "#sorting using custom key\n",
        "#note john hopkins is who invented \"Hopkins statistic\" that tendency calculation of data distribution in the cluster.\n",
        "employees = [{'name': 'Alan Turing', 'age': 25, 'salary':10000},\n",
        "             {'name': 'Sharon Lin', 'age': 30, 'salary':8000},\n",
        "             {'name': 'John Hopkins', 'age': 18, 'salary':10000}, \n",
        "             {'name': 'Mikhil Tal', 'age': 40, 'salary':15000}] #dictionary \n",
        "\n",
        "def get_name(employee):\n",
        "  return employee.get('name')\n",
        "\n",
        "def get_age(employee):\n",
        "  return employee.get('age')\n",
        "\n",
        "def get_salary(employee):\n",
        "  return employee.get('salary')\n",
        "\n",
        "#sort by name (Ascending order) A to Z\n",
        "employees.sort(key=get_name)\n",
        "print(employees, end='\\n\\n')\n",
        "\n",
        "#sort by age (Descending order) \n",
        "employees.sort(key=get_age, reverse=True)\n",
        "print(employees, end='\\n\\n')\n",
        "\n",
        "#sort by salary (Ascending order)\n",
        "employees.sort(key=get_salary)\n",
        "print(employees, end='\\n\\n')\n",
        "\n",
        "# หากไม่ใช่ฟังก์ชัน get เราสามารถใช้ lambda เพื่อดึงเข้าถึงข้อมูลทุกค่าได้ ดังนี้\n",
        "employees.sort(key=lambda x: x.get('name'))\n",
        "print(employees, end='\\n\\n')\n",
        "\n",
        "employees.sort(key=lambda x: x.get('age'),reverse=True)\n",
        "print(employees, end='\\n\\n')\n",
        "\n",
        "employees.sort(key=lambda x: x.get('salary'))\n",
        "print(employees, end='\\n\\n')\n",
        "\n",
        "#sort a tuple in list\n",
        "point = [(2, 2), (3, 4), (4, 1), (1,3)]\n",
        "point.sort(key=lambda x: x[1])\n",
        "print(point)"
      ],
      "metadata": {
        "colab": {
          "base_uri": "https://localhost:8080/"
        },
        "id": "9z_YyKwh9tJD",
        "outputId": "70cf00b2-5557-4483-d65e-7d043be4711f"
      },
      "execution_count": null,
      "outputs": [
        {
          "output_type": "stream",
          "name": "stdout",
          "text": [
            "[{'name': 'Alan Turing', 'age': 25, 'salary': 10000}, {'name': 'John Hopkins', 'age': 18, 'salary': 10000}, {'name': 'Mikhil Tal', 'age': 40, 'salary': 15000}, {'name': 'Sharon Lin', 'age': 30, 'salary': 8000}]\n",
            "\n",
            "[{'name': 'Mikhil Tal', 'age': 40, 'salary': 15000}, {'name': 'Sharon Lin', 'age': 30, 'salary': 8000}, {'name': 'Alan Turing', 'age': 25, 'salary': 10000}, {'name': 'John Hopkins', 'age': 18, 'salary': 10000}]\n",
            "\n",
            "[{'name': 'Sharon Lin', 'age': 30, 'salary': 8000}, {'name': 'Alan Turing', 'age': 25, 'salary': 10000}, {'name': 'John Hopkins', 'age': 18, 'salary': 10000}, {'name': 'Mikhil Tal', 'age': 40, 'salary': 15000}]\n",
            "\n",
            "[{'name': 'Alan Turing', 'age': 25, 'salary': 10000}, {'name': 'John Hopkins', 'age': 18, 'salary': 10000}, {'name': 'Mikhil Tal', 'age': 40, 'salary': 15000}, {'name': 'Sharon Lin', 'age': 30, 'salary': 8000}]\n",
            "\n",
            "[{'name': 'Mikhil Tal', 'age': 40, 'salary': 15000}, {'name': 'Sharon Lin', 'age': 30, 'salary': 8000}, {'name': 'Alan Turing', 'age': 25, 'salary': 10000}, {'name': 'John Hopkins', 'age': 18, 'salary': 10000}]\n",
            "\n",
            "[{'name': 'Sharon Lin', 'age': 30, 'salary': 8000}, {'name': 'Alan Turing', 'age': 25, 'salary': 10000}, {'name': 'John Hopkins', 'age': 18, 'salary': 10000}, {'name': 'Mikhil Tal', 'age': 40, 'salary': 15000}]\n",
            "\n",
            "[(4, 1), (2, 2), (1, 3), (3, 4)]\n"
          ]
        }
      ]
    },
    {
      "cell_type": "markdown",
      "source": [
        "# Numpy\n",
        "* Numeric Python\n",
        "* Alternative to python List: Numpy Array เป็นอีกทางเลือกหนึ่งสำหรับ list \n",
        "* Calculations over entire arrays สามารถคำนวณภายใน array ได้\n",
        "* Easy and Fast ง่ายและรวดเร็ว\n",
        "* pip3 install numpy"
      ],
      "metadata": {
        "id": "r-_PZZTu8feM"
      }
    },
    {
      "cell_type": "code",
      "source": [
        "import numpy as np\n",
        "height = [1.73, 1.68, 1.71, 1.89, 1.79]\n",
        "weight = [65.4, 59.2, 63.6, 88.4, 68.7]\n",
        "np_height = np.array(height)\n",
        "np_weight = np.array(weight)\n",
        "print(np_height)\n",
        "print(np_weight)\n",
        "print(type(np_height), type(np_weight))"
      ],
      "metadata": {
        "colab": {
          "base_uri": "https://localhost:8080/"
        },
        "id": "Onsts5gc8fHE",
        "outputId": "9613d90e-c6fd-4489-88a9-0d1ac8806cb6"
      },
      "execution_count": null,
      "outputs": [
        {
          "output_type": "stream",
          "name": "stdout",
          "text": [
            "[1.73 1.68 1.71 1.89 1.79]\n",
            "[65.4 59.2 63.6 88.4 68.7]\n",
            "<class 'numpy.ndarray'> <class 'numpy.ndarray'>\n"
          ]
        }
      ]
    },
    {
      "cell_type": "code",
      "source": [
        "#calculate bmi in numpy array\n",
        "bmi_array = np_weight / np_height ** 2 # สามารถคำนวณข้อมูลได้ทั้งชุด ในขณะที่ list ทำให้ไม่ได้ ต้องมาลัน loop แทน\n",
        "print(bmi_array)\n",
        "print(type(bmi_array))"
      ],
      "metadata": {
        "colab": {
          "base_uri": "https://localhost:8080/"
        },
        "id": "FHea90czDWNg",
        "outputId": "2a808ce4-40a6-403a-8279-902d20a0183d"
      },
      "execution_count": null,
      "outputs": [
        {
          "output_type": "stream",
          "name": "stdout",
          "text": [
            "[21.85171573 20.97505669 21.75028214 24.7473475  21.44127836]\n",
            "<class 'numpy.ndarray'>\n"
          ]
        }
      ]
    },
    {
      "cell_type": "markdown",
      "source": [
        "Numpy Subsetting"
      ],
      "metadata": {
        "id": "IqCJ7gsg7054"
      }
    },
    {
      "cell_type": "code",
      "source": [
        "import numpy as np\n",
        "bmi = np.array([21.852, 20.975, 21.75, 24.747, 21.441])\n",
        "print(bmi)\n",
        "print(bmi[1])\n",
        "print(bmi > 23) # query value not get value return value is boolean, True = match condition, False = not match codition\n",
        "print(bmi[bmi > 23]) #get value if match condition \n",
        "result_index = np.where(bmi > 23) #find index of numpy array when value match with condition\n",
        "print(result_index[0]) # index"
      ],
      "metadata": {
        "colab": {
          "base_uri": "https://localhost:8080/"
        },
        "id": "lQW1HFsipJDE",
        "outputId": "cdf5dbc7-ec39-42f2-a9d3-7159c31e2b53"
      },
      "execution_count": 6,
      "outputs": [
        {
          "output_type": "stream",
          "name": "stdout",
          "text": [
            "[21.852 20.975 21.75  24.747 21.441]\n",
            "20.975\n",
            "[False False False  True False]\n",
            "[24.747]\n",
            "[3]\n"
          ]
        }
      ]
    },
    {
      "cell_type": "code",
      "source": [
        "#example: to convert a unit of height from meter into inch\n",
        "import numpy as np\n",
        "np_height_meter = np.array([1.73, 1.68, 1.71, 1.89, 1.79])\n",
        "np_height_inch = np_height_meter * 39.37\n",
        "print(np_height_inch)"
      ],
      "metadata": {
        "colab": {
          "base_uri": "https://localhost:8080/"
        },
        "id": "1wTUAciA9m2s",
        "outputId": "0fd41d3f-d048-4ce5-ac87-bf809774143b"
      },
      "execution_count": 8,
      "outputs": [
        {
          "output_type": "stream",
          "name": "stdout",
          "text": [
            "[68.1101 66.1416 67.3227 74.4093 70.4723]\n"
          ]
        }
      ]
    },
    {
      "cell_type": "code",
      "source": [
        "#example: assign value that y > 5 to x\n",
        "import numpy as np\n",
        "y = np.array([4,9,6,3,1])\n",
        "print(y>5) #display boolean when match condition\n",
        "x = y[y > 5] #get value \n",
        "print(x)\n",
        "print(type(x))"
      ],
      "metadata": {
        "colab": {
          "base_uri": "https://localhost:8080/"
        },
        "id": "3jDQWLM9_DoC",
        "outputId": "34f8006c-39e5-40ef-9451-fd85b48ee1f7"
      },
      "execution_count": 11,
      "outputs": [
        {
          "output_type": "stream",
          "name": "stdout",
          "text": [
            "[False  True  True False False]\n",
            "[9 6]\n",
            "<class 'numpy.ndarray'>\n"
          ]
        }
      ]
    },
    {
      "cell_type": "markdown",
      "source": [
        "2D Numpy Arrays"
      ],
      "metadata": {
        "id": "KWFIjddW_l5T"
      }
    },
    {
      "cell_type": "code",
      "source": [
        "np_2d = np.array([[1.73,1.68,1.71,1.89,1.79],\n",
        "                  [65.4, 59.2, 63.6, 88.4, 68.7]])\n",
        "print(np_2d)\n",
        "print(np_2d.shape) # 2 rows, 5 columns มันคือการ get dimension ของ array มิติของข้อมูล\n",
        "print(np_2d[0]) #get row ที่ 0 ทั้งหมด ทุก column np_2d[row,column]\n",
        "print(np_2d[0][0], np_2d[0][1]) #get row = 0, column 0 1 ; 1.73, 1.68\n",
        "print(np_2d[0,0:2]) #get row = 0, column 0 1 ; 1.73, 1.68 => np_2d[start row: end columns, start columns : end columns] ไม่ใส่อะไรเลยเท่ากับเอาหมด : คือ เอาหมด"
      ],
      "metadata": {
        "colab": {
          "base_uri": "https://localhost:8080/"
        },
        "id": "ma8HNMcw_oer",
        "outputId": "7047e0d3-d218-4beb-929c-09873a5af3d3"
      },
      "execution_count": 18,
      "outputs": [
        {
          "output_type": "stream",
          "name": "stdout",
          "text": [
            "[[ 1.73  1.68  1.71  1.89  1.79]\n",
            " [65.4  59.2  63.6  88.4  68.7 ]]\n",
            "(2, 5)\n",
            "[1.73 1.68 1.71 1.89 1.79]\n",
            "1.73 1.68\n",
            "[1.73 1.68]\n"
          ]
        }
      ]
    },
    {
      "cell_type": "markdown",
      "source": [
        "#Numpy: Basic Statistics\n",
        "* Get to know your data\n",
        "* little data -> simply look at it\n",
        "* Big data -> ?"
      ],
      "metadata": {
        "id": "a1_wYNSfBWMs"
      }
    },
    {
      "cell_type": "markdown",
      "source": [
        "**What is a mean, median, and mode**\n",
        "https://greedisgoods.com/%E0%B8%84%E0%B9%88%E0%B8%B2%E0%B8%A1%E0%B8%B1%E0%B8%98%E0%B8%A2%E0%B8%90%E0%B8%B2%E0%B8%99-%E0%B8%84%E0%B8%B7%E0%B8%AD-median/\n",
        "\n",
        "* Mean คือค่าเฉลี่ยประเภทหนึ่ง หาจากการนำเอาผลรวมของข้อมูลทั้งหมด / จำนวนของข้อมูลทั้งหมด\n",
        "\n",
        "ตัวอย่าง นศ.ที่เรียนรายวิชาคณิตศาสตร์ section 1 มีทั้งหมด 5 คน แต่ละคนได้คะแนนสอบกลางภาค \n",
        "\n",
        "ได้แก่ 15, 12, 11, 10, 17 จากคะแนนเต็ม 30 คะแนน\n",
        "หาค่าเฉลี่ยนคะแนนสอบกลางภาควิชาคณิตศาสตร์ของนศ. กลุ่มนี้จะได้\n",
        "\n",
        "Mean(x) = (15+12+11+10+17) / 5 \n",
        "Mean(x) = 65/5 = 13 \n",
        "ดังนั้นค่าเฉลี่ยคะแนนสอบกลางภาคของนศ.กลุ่มนี้คือ 13 คะแนน จากคะแนนเต็ม 30 คะแนน หากตัดครึ่งที่ 15 คะแนนจาก 30 คะแนนหมายถึงสอบตกรายวิชานี้ เท่ากับว่ามีนิสิตสอบตกจำนวน 3 คน และผ่าน 2 คน\n",
        "\n",
        "* Median คือค่ามัธยฐาน เป็นค่ากึ่งกลางของชุดข้อมูล โดยวิธีการหาเริ่มจาก \n",
        "\n",
        "เรียงข้อมูลก่อน **สำคัญมาก** แบ่งเป็น 2 กรณี\n",
        "\n",
        "1. หากจำนวนข้อมูลเป็นจำนวนคี่ สามารถตอบได้เลยว่า median คือค่าที่เป็นลำดับกึ่งกลางของกลุ่มข้อมูล \n",
        "2. หากจำนวนข้อมูลเป็นจำนวนคู่ จะต้องนำ ผลรวมของข้อมูล 2 ข้อมูลที่อยู่ลำดับกึ่งกลางมาหาค่าเฉลี่ยน\n",
        "\n",
        "ตย. จำนวนคี่ มี n = 7 => 12, 15, 16, 10 ,19, 10, 14\n",
        "\n",
        "เรียงลำดับจะจากน้อยไปมาก มายไปน้อยก็ได้ 10, 10, 12, 14, 15, 16, 19\n",
        "\n",
        "median = 14\n",
        "\n",
        "ตย. จำนวนคู่ มี n = 8 => 10, 15, 13, 18, 14, 19, 11, 12\n",
        "\n",
        "เรียง => 10, 11, 12, 13, 14, 15, 18, 19\n",
        "\n",
        "median => (13+14) / 2 = 13.5 \n",
        "\n",
        "* Mode คือฐานนิยม เลขที่มีความนิยมมากสุด => หา Frequency ของข้อมูล maximum of count of all data\n",
        "\n",
        "ex. 4 **5** 1 **5** 2 **5** **5** 3 1 2 1 3 4 **5** 6 7 2 7 4 4 9 1 **5** 9 1\n",
        "mode คือ 5 เนื่องจากมี count ที่ซ้ำกันมากสุดคือ 6 ครั้ง\n",
        "\n",
        "**Tip เราสามารถหาฐานนิยมได้จาก** \n",
        "\n",
        "Mode = 3Median - 2Mean ไม่ค่อยตรงเลย แปะ **"
      ],
      "metadata": {
        "id": "G5rV3t3zInsp"
      }
    },
    {
      "cell_type": "code",
      "source": [
        "#city-wide survey\n",
        "import numpy as np\n",
        "from scipy import stats\n",
        "np_city = np.array([[1.64, 71.78],\n",
        "                    [1.37, 63.35,],\n",
        "                    [1.6, 55.09],\n",
        "                    [2.04, 74.85],\n",
        "                    [2.04, 68.72],\n",
        "                    [2.01, 73.57]]) #asume own data for practicing => column => city1, city2 ; row is wide of location in city\n",
        "\n",
        "#find mean of column 0\n",
        "mean_city = np.mean(np_city[:,0]) # หาmeanของ data ด้วย numpy numpy.mean(numpy.ndarray) ** ค่าเฉลี่ย => sum of all value/ number of value คือ (1.64+1.37+...+2.01) / 6\n",
        "print(mean_city) #1.7833333333333332\n",
        "\n",
        "#find median of column 0\n",
        "median_city = np.median(np_city[:,0]) #หา median มันคือมัธยฐานค่ากลางของชุดข้อมูล หลังจากที่คุณ sorted all the values ** ต้อง sorted ก่อนนะ สูตรคือผลรวม 2 ค่าตรงกลาง / 2 \n",
        "print(median_city) # \n",
        "\n",
        "#find mode of column 0\n",
        "mode_city = stats.mode(np_city[:,0])\n",
        "print(mode_city) # info\n",
        "print(mode_city[0]) #get value index 0 is value , index 1 is frequency\n",
        "\n",
        "data = np.array([4, 5, 1, 5, 2, 5, 5, 3, 1, 2, 1, 3, 4, 5, 6, 7, 2, 7, 4, 4, 9, 1, 5, 9, 1])\n",
        "\n",
        "mean = np.mean(data)\n",
        "median = np.median(data)\n",
        "mode = stats.mode(data)\n",
        "print(\"mean, median, mode1, mode2 of this data set is\", mean, median, mode[0], (3*median)-(2*mean))"
      ],
      "metadata": {
        "colab": {
          "base_uri": "https://localhost:8080/"
        },
        "id": "s4SNVDTkBV00",
        "outputId": "69a1577d-fe9d-4be4-faa8-c15137e324e3"
      },
      "execution_count": 31,
      "outputs": [
        {
          "output_type": "stream",
          "name": "stdout",
          "text": [
            "1.7833333333333332\n",
            "1.8249999999999997\n",
            "ModeResult(mode=array([2.04]), count=array([2]))\n",
            "[2.04]\n",
            "mean, median, mode1, mode2 of this data set is 4.04 4.0 [5] 3.92\n"
          ]
        }
      ]
    },
    {
      "cell_type": "code",
      "source": [
        "# Pearson correlation coefficients คุ้นๆ ลืมทฤษฎีแล้ว แปะ \n",
        "print(np.corrcoef(np_city[:,0], np_city[:,1])) # ระหว่างข้อมูล 2 matrix \n",
        "print(np.std(np_city[:,0])) #std ส่วนเบี่ยงเบนมาตรฐาน\n",
        "print(np.sum(np_city)) # all data"
      ],
      "metadata": {
        "colab": {
          "base_uri": "https://localhost:8080/"
        },
        "id": "xl-vD_bOWhD0",
        "outputId": "7d44840a-39da-495a-fdf1-898231b0185a"
      },
      "execution_count": 40,
      "outputs": [
        {
          "output_type": "stream",
          "name": "stdout",
          "text": [
            "[[1.         0.64924262]\n",
            " [0.64924262 1.        ]]\n",
            "0.2608107018935807\n",
            "418.06\n",
            "[1.64 1.37 1.6  2.04 2.04 2.01]\n",
            "\n",
            "[1.64 1.37 1.6  2.04 2.04 2.01]\n"
          ]
        }
      ]
    }
  ]
}